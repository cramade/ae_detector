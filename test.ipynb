{
 "cells": [
  {
   "cell_type": "code",
   "execution_count": 1,
   "metadata": {},
   "outputs": [],
   "source": [
    "import os\n",
    "import torch\n",
    "import numpy as np\n",
    "import matplotlib.pyplot as plt\n",
    "from init_mnist import MNIST\n",
    "from ipywidgets import interact\n",
    "\n",
    "from cw_attack import CW_Attack\n",
    "from train_cnn_mnist import CNN, CNNTrain\n",
    "import torchattacks\n",
    "\n",
    "from torch.utils.data import DataLoader\n",
    "from torchvision.utils import save_image\n",
    "from torchvision.datasets import ImageFolder\n",
    "from torchvision.transforms import transforms"
   ]
  },
  {
   "cell_type": "code",
   "execution_count": 2,
   "metadata": {},
   "outputs": [],
   "source": [
    "use_cuda = False\n",
    "device = torch.device(\"cuda\" if use_cuda else \"cpu\")\n",
    "\n",
    "def torch_img_show(image, label):\n",
    "  npimg = image.cpu().numpy()\n",
    "  fig = plt.figure(figsize = (5, 15))\n",
    "  plt.imshow(image, cmap='gray')\n",
    "  plt.title(label)\n",
    "  plt.show()"
   ]
  },
  {
   "cell_type": "code",
   "execution_count": 3,
   "metadata": {},
   "outputs": [
    {
     "name": "stdout",
     "output_type": "stream",
     "text": [
      "CNN model loaded\n"
     ]
    }
   ],
   "source": [
    "trainer = CNNTrain()\n",
    "trainer.model_train()\n",
    "\n",
    "model = trainer.model\n",
    "#model.eval()\n",
    "mnist = trainer.mnist"
   ]
  },
  {
   "cell_type": "code",
   "execution_count": 4,
   "metadata": {},
   "outputs": [
    {
     "name": "stdout",
     "output_type": "stream",
     "text": [
      "True Label: 0, Predcited: 0\n",
      "CW(model_name=CNN, device=cpu, attack_mode=default, targeted=False, normalization_used=False, c=1, kappa=0, steps=1000, lr=0.01)\n"
     ]
    },
    {
     "data": {
      "image/png": "[encoded data removed]",
      "text/plain": [
       "<Figure size 500x1500 with 1 Axes>"
      ]
     },
     "metadata": {},
     "output_type": "display_data"
    }
   ],
   "source": [
    "# Prepare data\n",
    "images, labels = next(iter(mnist.test_loader))\n",
    "\n",
    "true_y = labels.item()\n",
    "pred_y = torch.argmax(model(images)).item()\n",
    "print(f\"True Label: {true_y}, Predcited: {pred_y}\")\n",
    "\n",
    "# CW Attack\n",
    "attack = torchattacks.CW(model, c=1, steps=1000, lr=0.01)\n",
    "#attack.set_mode_targeted_random(10)\n",
    "#attack.set_mode_targeted_least_likely(3)\n",
    "print(attack)\n",
    "adv_images = attack(images, labels)\n",
    "\n",
    "# Evaluate\n",
    "adv_pred = model(adv_images)\n",
    "adv_pred_y = torch.argmax(adv_pred).item()\n",
    "\n",
    "title = f\"{true_y} -> {adv_pred_y}\"\n",
    "torch_img_show(adv_images[0][0], title)"
   ]
  },
  {
   "cell_type": "code",
   "execution_count": 5,
   "metadata": {},
   "outputs": [],
   "source": [
    "# if os.path.exists('data') != True:\n",
    "#   os.mkdir('data')\n",
    "\n",
    "# if os.path.exists('data/test') != True:\n",
    "#   os.mkdir('data/test')\n",
    "# for i in range (0, 10):\n",
    "#   if os.path.exists(f'data/test/{i}') != True:\n",
    "#     os.mkdir(f'data/test/{i}')\n",
    "\n",
    "# if os.path.exists('data/train') != True:\n",
    "#   os.mkdir('data/train')\n",
    "# for i in range (0, 10):\n",
    "#   if os.path.exists(f'data/train/{i}') != True:\n",
    "#     os.mkdir(f'data/train/{i}')"
   ]
  },
  {
   "cell_type": "code",
   "execution_count": 6,
   "metadata": {},
   "outputs": [],
   "source": [
    "# for idx in range(0, len(mnist.data_test)):\n",
    "#   image, label = mnist.data_test[idx]\n",
    "\n",
    "#   images = image.unsqueeze(0)\n",
    "#   labels = torch.tensor(label, dtype=torch.int8)\n",
    "#   adv_images = attack(images, labels)\n",
    "\n",
    "#   path = f\"data/test/{labels.item()}/{idx}.png\"\n",
    "#   if os.path.exists(url) != True:\n",
    "#     save_image(adv_images, path)\n",
    "\n"
   ]
  },
  {
   "cell_type": "code",
   "execution_count": 6,
   "metadata": {},
   "outputs": [
    {
     "name": "stdout",
     "output_type": "stream",
     "text": [
      "Label: 0 Predict: 0\n",
      "Loss: 7083.64, Correct: 36.85% = 3685/10000\n",
      "\n"
     ]
    }
   ],
   "source": [
    "from torchvision.datasets import ImageFolder\n",
    "from torchvision.transforms import transforms\n",
    "\n",
    "transform_test = transforms.Compose([\n",
    "    transforms.Grayscale(num_output_channels=1),\n",
    "    transforms.ToTensor(), # regularazation : range of 0~1\n",
    "])\n",
    "\n",
    "adv_data = ImageFolder(root='data/test', transform=transform_test)\n",
    "adv_loader = DataLoader(dataset=adv_data, batch_size=1, shuffle=False)\n",
    "\n",
    "def model_predict(image, label):\n",
    "    with torch.no_grad():\n",
    "        image_torch = image.data.view(1, 1, 28, 28).float().to(device)\n",
    "        predict = model(image_torch)\n",
    "        print(f\"Label: {label} Predict: {torch.argmax(predict)}\")\n",
    "        return predict\n",
    "\n",
    "def model_evaluate(test_loader):\n",
    "    test_loss = 0\n",
    "    correct_cnt = 0\n",
    "    criterion = torch.nn.CrossEntropyLoss()\n",
    "\n",
    "    with torch.no_grad():\n",
    "        model.eval()\n",
    "        for image, label in test_loader:\n",
    "            predict_logit = model(image)\n",
    "            test_loss += criterion(predict_logit, label).item()\n",
    "            predict = torch.argmax(predict_logit)\n",
    "            correct_cnt += predict.eq(label.view_as(predict)).sum().item()\n",
    "        print(f\"Loss: {test_loss:.2f}, Correct: {(correct_cnt/len(test_loader))*100:.2f}% = {correct_cnt}/{len(test_loader)}\")\n",
    "        return test_loss, correct_cnt\n",
    "\n",
    "images, labels =adv_data[1]\n",
    "pred = model_predict(images[0], labels)\n",
    "model_evaluate(adv_loader)\n",
    "print(\"\")"
   ]
  },
  {
   "attachments": {},
   "cell_type": "markdown",
   "metadata": {},
   "source": [
    "Using an autoencoder to distinguish adversarial examples"
   ]
  },
  {
   "cell_type": "code",
   "execution_count": 9,
   "metadata": {},
   "outputs": [],
   "source": [
    "class AutoEncoder(torch.nn.Module):\n",
    "    def __init__(self):\n",
    "        super(AutoEncoder, self).__init__()\n",
    "\n",
    "        self.encoder = torch.nn.Sequential(\n",
    "            torch.nn.Linear(28*28, 128),\n",
    "            torch.nn.ReLU(),\n",
    "            torch.nn.Linear(128, 64),\n",
    "            torch.nn.ReLU(),\n",
    "            torch.nn.Linear(64, 32),\n",
    "        )\n",
    "\n",
    "        self.decoder = torch.nn.Sequential(\n",
    "            torch.nn.Linear(32, 64),\n",
    "            torch.nn.ReLU(),\n",
    "            torch.nn.Linear(64, 128),\n",
    "            torch.nn.ReLU(),\n",
    "            torch.nn.Linear(128, 28*28),\n",
    "            torch.nn.Sigmoid(),\n",
    "        )\n",
    "    \n",
    "    def forward(self, x):\n",
    "       out = x.view(x.size(0), -1)\n",
    "       encoded = self.encoder(out)\n",
    "       decoded = self.decoder(encoded)\n",
    "       return decoded\n",
    "\n",
    "\n",
    "path = \"ae_model/ae_model.pt\"\n",
    "if(os.path.isfile(path)):\n",
    "    autoencoder = torch.load(path)\n",
    "else:\n",
    "    autoencoder = AutoEncoder().to(device)\n",
    "    optimizer = torch.optim.Adam(autoencoder.parameters(), lr=0.01)\n",
    "    loss = torch.nn.MSELoss().to(device)\n",
    "\n",
    "    # trains model\n",
    "    for epoch in range(15):\n",
    "        avg_cost = 0\n",
    "\n",
    "        for X, Y in mnist.train_loader:\n",
    "            # image is already size of (28x28), no reshape\n",
    "            # label is not one-hot encoded\n",
    "            X = X.to(device)\n",
    "            optimizer.zero_grad()\n",
    "\n",
    "            autoencoder.train()\n",
    "            hypothesis = autoencoder(X).reshape(-1, 28, 28)\n",
    "            cost = loss(hypothesis, X)\n",
    "            cost.backward()\n",
    "            optimizer.step()\n",
    "\n",
    "            avg_cost += cost / 15\n",
    "\n",
    "        print(f'[Epoch: {(epoch+1):>4}] cost = {avg_cost:>.9}')\n",
    "\n",
    "    autoencoder.train()\n",
    "    torch.save(autoencoder, \"ae_model/ae_model.pt\")\n"
   ]
  },
  {
   "attachments": {},
   "cell_type": "markdown",
   "metadata": {},
   "source": [
    "Calculate the difference between AE inputs and outputs"
   ]
  },
  {
   "cell_type": "markdown",
   "metadata": {},
   "source": [
    "def cal_mnist_diff(model, data, range, avg=0, std=0):\n",
    "  decoded = model(data)\n",
    "  o_diff = (np.abs(data.reshape(-1, 28, 28) - decoded)).reshape(-1, 28*28)\n",
    "  o_diff_sum = np.sum(o_diff, axis=1)\n",
    "  #print(o_diff_sum)\n",
    "\n",
    "  # for training (calculate avg and std)\n",
    "  if(avg == 0 and std == 0):\n",
    "    avg = np.average(o_diff_sum)\n",
    "    std = np.std(o_diff_sum)\n",
    "    print(f\"[Avg]: {avg:.2f} [Std]: {std:.2f} [Range]: {avg-std*range:.2f} ~ {avg+std*range:.2f}\")\n",
    "\n",
    "  # Search indices that is out of range\n",
    "  search_result = np.where((o_diff_sum > avg+std*range) | (o_diff_sum  < avg-std*range))\n",
    "\n",
    "  n_total = len(o_diff_sum)\n",
    "  n_out_of_bound = len(search_result[0])\n",
    "\n",
    "  print(f\"[Out-of-bound Ratio]]: {(n_out_of_bound/n_total)*100:.2f}% ({n_out_of_bound}/{n_total})\")\n",
    "  return o_diff_sum, avg, std\n",
    "\n",
    "diff, avg, std = cal_mnist_diff(autoencoder, train_x, 5)\n",
    "test_diff = cal_mnist_diff(normal_ae_model, test_x, 5, avg, std)"
   ]
  }
 ],
 "metadata": {
  "kernelspec": {
   "display_name": "Python 3",
   "language": "python",
   "name": "python3"
  },
  "language_info": {
   "codemirror_mode": {
    "name": "ipython",
    "version": 3
   },
   "file_extension": ".py",
   "mimetype": "text/x-python",
   "name": "python",
   "nbconvert_exporter": "python",
   "pygments_lexer": "ipython3",
   "version": "3.11.3"
  },
  "orig_nbformat": 4
 },
 "nbformat": 4,
 "nbformat_minor": 2
}
